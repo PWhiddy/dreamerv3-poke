{
 "cells": [
  {
   "cell_type": "code",
   "execution_count": 1,
   "id": "da96e69c-39db-4e6e-8151-fceb30d6970b",
   "metadata": {
    "tags": []
   },
   "outputs": [
    {
     "name": "stderr",
     "output_type": "stream",
     "text": [
      "UserWarning: Using SDL2 binaries from pysdl2-dll 2.26.5\n"
     ]
    }
   ],
   "source": [
    "from run_recorded_actions import run_action_list_on_emulator_and_save_video, run_recorded_actions_on_emulator_and_save_video\n"
   ]
  },
  {
   "cell_type": "code",
   "execution_count": 7,
   "id": "a3e740a1-4871-4ae7-96c2-8468901f3060",
   "metadata": {
    "tags": []
   },
   "outputs": [],
   "source": [
    "import pandas as pd\n",
    "from pathlib import Path\n",
    "import matplotlib\n",
    "import matplotlib.pyplot as plt\n",
    "import seaborn as sns\n",
    "from PIL import Image\n",
    "from einops import rearrange\n",
    "import requests\n",
    "import io\n",
    "import json\n",
    "from functools import reduce\n",
    "from tqdm import tqdm\n",
    "from scipy.ndimage import gaussian_filter\n",
    "import mediapy as media\n",
    "import numpy as np"
   ]
  },
  {
   "cell_type": "code",
   "execution_count": 3,
   "id": "31e35fcd-61b2-451f-9342-d6c30c98e2c8",
   "metadata": {
    "tags": []
   },
   "outputs": [
    {
     "name": "stdout",
     "output_type": "stream",
     "text": [
      "total 452M\n",
      "-rw-rw-r-- 1 pwhiddy pwhiddy 681K Oct  2 21:53 Visualizations_over_time.ipynb\n",
      "-rw-rw-r-- 1 pwhiddy pwhiddy  15K Oct  2 20:54 Untitled.ipynb\n",
      "-rw-rw-r-- 1 pwhiddy pwhiddy  29M Oct  2 20:41 agent_stats_eb35f1c2.csv.gz\n",
      "-rw-rw-r-- 1 pwhiddy pwhiddy  29M Oct  2 20:41 agent_stats_eb21d3ff.csv.gz\n",
      "-rw-rw-r-- 1 pwhiddy pwhiddy  29M Oct  2 20:41 agent_stats_e580ec6a.csv.gz\n",
      "-rw-rw-r-- 1 pwhiddy pwhiddy  29M Oct  2 20:41 agent_stats_e501da75.csv.gz\n",
      "-rw-rw-r-- 1 pwhiddy pwhiddy  29M Oct  2 20:41 agent_stats_e0102e40.csv.gz\n",
      "-rw-rw-r-- 1 pwhiddy pwhiddy  29M Oct  2 20:41 agent_stats_c7ef6067.csv.gz\n",
      "-rw-rw-r-- 1 pwhiddy pwhiddy  29M Oct  2 20:41 agent_stats_c167173a.csv.gz\n",
      "-rw-rw-r-- 1 pwhiddy pwhiddy  29M Oct  2 20:41 agent_stats_b3720eb4.csv.gz\n",
      "-rw-rw-r-- 1 pwhiddy pwhiddy  29M Oct  2 20:41 agent_stats_88f5a17a.csv.gz\n",
      "-rw-rw-r-- 1 pwhiddy pwhiddy  29M Oct  2 20:41 agent_stats_796da009.csv.gz\n",
      "-rw-rw-r-- 1 pwhiddy pwhiddy  29M Oct  2 20:41 agent_stats_50fc762b.csv.gz\n",
      "-rw-rw-r-- 1 pwhiddy pwhiddy  29M Oct  2 20:41 agent_stats_438f63cb.csv.gz\n",
      "-rw-rw-r-- 1 pwhiddy pwhiddy  29M Oct  2 20:41 agent_stats_3d93a010.csv.gz\n",
      "-rw-rw-r-- 1 pwhiddy pwhiddy  29M Oct  2 20:41 agent_stats_3a0fd2ea.csv.gz\n",
      "-rw-rw-r-- 1 pwhiddy pwhiddy  29M Oct  2 20:41 agent_stats_142fda9b.csv.gz\n",
      "-rw-rw-r-- 1 pwhiddy pwhiddy  29M Oct  2 20:41 agent_stats_1072e9f9.csv.gz\n"
     ]
    }
   ],
   "source": [
    "!ls -lth session_3e4969a1/stats_copy"
   ]
  },
  {
   "cell_type": "code",
   "execution_count": 3,
   "id": "62b01575-71de-4bac-8fe5-ad9307b0ec58",
   "metadata": {
    "tags": []
   },
   "outputs": [],
   "source": [
    "run_dir = Path(\"session_3e4969a1/stats_copy\")"
   ]
  },
  {
   "cell_type": "code",
   "execution_count": 11,
   "id": "e6db94d2-6445-4670-b15b-6cd0b506538f",
   "metadata": {
    "tags": []
   },
   "outputs": [],
   "source": [
    "def path_to_runs(pth):\n",
    "    tdf = pd.read_csv(pth, compression='gzip')\n",
    "    print(len(tdf))\n",
    "    return np.array_split(tdf[tdf['map'] != 'map'], 519)"
   ]
  },
  {
   "cell_type": "code",
   "execution_count": 12,
   "id": "72c3ae20-c4f6-43dd-9200-d53242cd0a5d",
   "metadata": {
    "tags": []
   },
   "outputs": [
    {
     "name": "stderr",
     "output_type": "stream",
     "text": [
      "0it [00:00, ?it/s]/tmp/ipykernel_238068/103370422.py:2: DtypeWarning: Columns (1,2,3,4,5,6,9,10,11,12,13,14) have mixed types. Specify dtype option on import or set low_memory=False.\n",
      "  tdf = pd.read_csv(pth, compression='gzip')\n"
     ]
    },
    {
     "name": "stdout",
     "output_type": "stream",
     "text": [
      "4260359\n"
     ]
    },
    {
     "name": "stderr",
     "output_type": "stream",
     "text": [
      "1it [00:03,  3.53s/it]/tmp/ipykernel_238068/103370422.py:2: DtypeWarning: Columns (1,2,3,4,5,6,9,10,11,12,13,14) have mixed types. Specify dtype option on import or set low_memory=False.\n",
      "  tdf = pd.read_csv(pth, compression='gzip')\n"
     ]
    },
    {
     "name": "stdout",
     "output_type": "stream",
     "text": [
      "4260359\n"
     ]
    },
    {
     "name": "stderr",
     "output_type": "stream",
     "text": [
      "2it [00:06,  3.44s/it]/tmp/ipykernel_238068/103370422.py:2: DtypeWarning: Columns (1,2,3,4,5,6,9,10,11,12,13,14) have mixed types. Specify dtype option on import or set low_memory=False.\n",
      "  tdf = pd.read_csv(pth, compression='gzip')\n"
     ]
    },
    {
     "name": "stdout",
     "output_type": "stream",
     "text": [
      "4260359\n"
     ]
    },
    {
     "name": "stderr",
     "output_type": "stream",
     "text": [
      "3it [00:10,  3.38s/it]/tmp/ipykernel_238068/103370422.py:2: DtypeWarning: Columns (1,2,3,4,5,6,9,10,11,12,13,14) have mixed types. Specify dtype option on import or set low_memory=False.\n",
      "  tdf = pd.read_csv(pth, compression='gzip')\n"
     ]
    },
    {
     "name": "stdout",
     "output_type": "stream",
     "text": [
      "4260359\n"
     ]
    },
    {
     "name": "stderr",
     "output_type": "stream",
     "text": [
      "4it [00:13,  3.40s/it]/tmp/ipykernel_238068/103370422.py:2: DtypeWarning: Columns (1,2,3,4,5,6,9,10,11,12,13,14) have mixed types. Specify dtype option on import or set low_memory=False.\n",
      "  tdf = pd.read_csv(pth, compression='gzip')\n"
     ]
    },
    {
     "name": "stdout",
     "output_type": "stream",
     "text": [
      "4260359\n"
     ]
    },
    {
     "name": "stderr",
     "output_type": "stream",
     "text": [
      "5it [00:16,  3.39s/it]\n"
     ]
    }
   ],
   "source": [
    "all_runs = [path_to_runs(pth) for pth in tqdm(run_dir.glob('agent_stats_e*.gz'))] #tqdm(run_dir.glob('agent_stats_*.gz'))]\n",
    "all_runs = list(map(list, zip(*all_runs)))"
   ]
  },
  {
   "cell_type": "code",
   "execution_count": 15,
   "id": "bb0d5c45-13f6-4fc0-b807-e2369e8740c7",
   "metadata": {
    "tags": []
   },
   "outputs": [
    {
     "data": {
      "text/plain": [
       "8209"
      ]
     },
     "execution_count": 15,
     "metadata": {},
     "output_type": "execute_result"
    }
   ],
   "source": [
    "len(all_runs[0][0])"
   ]
  },
  {
   "cell_type": "code",
   "execution_count": 16,
   "id": "f2f97454-1b1b-4f1a-8fce-879b785066a7",
   "metadata": {
    "tags": []
   },
   "outputs": [
    {
     "name": "stderr",
     "output_type": "stream",
     "text": [
      "519it [00:00, 1570.95it/s]\n"
     ]
    }
   ],
   "source": [
    "all_map_ids = set()\n",
    "outer_indices = set()\n",
    "for idx,outer in tqdm(enumerate(all_runs)):\n",
    "    for inner in outer:\n",
    "        for val in inner[\"map\"].unique():\n",
    "            if val == \"3\":\n",
    "                outer_indices.add(idx)\n",
    "            all_map_ids.add(val)"
   ]
  },
  {
   "cell_type": "code",
   "execution_count": 17,
   "id": "4f22374c-88f6-44d6-bb8f-fc00e2824c36",
   "metadata": {
    "tags": []
   },
   "outputs": [
    {
     "data": {
      "text/plain": [
       "{490, 492, 493, 494, 495}"
      ]
     },
     "execution_count": 17,
     "metadata": {},
     "output_type": "execute_result"
    }
   ],
   "source": [
    "outer_indices"
   ]
  },
  {
   "cell_type": "code",
   "execution_count": 22,
   "id": "7b832df4-a5d4-4fa9-a400-751b32877428",
   "metadata": {
    "tags": []
   },
   "outputs": [],
   "source": [
    "inner_indices = set()\n",
    "for idx, inner in enumerate(all_runs[490]):\n",
    "    for val in inner[\"map\"].unique():\n",
    "        if val == \"3\":\n",
    "            inner_indices.add(idx)\n"
   ]
  },
  {
   "cell_type": "code",
   "execution_count": 23,
   "id": "09fb1ef6-1e8f-4cbb-96bb-fb08393765ae",
   "metadata": {
    "tags": []
   },
   "outputs": [
    {
     "data": {
      "text/plain": [
       "{0}"
      ]
     },
     "execution_count": 23,
     "metadata": {},
     "output_type": "execute_result"
    }
   ],
   "source": [
    "inner_indices"
   ]
  },
  {
   "cell_type": "code",
   "execution_count": null,
   "id": "c64da785-a250-4b16-bb87-ac26b1a93ed3",
   "metadata": {},
   "outputs": [],
   "source": []
  },
  {
   "cell_type": "code",
   "execution_count": 26,
   "id": "211dff90-3160-4d00-a704-1f07e9154563",
   "metadata": {
    "tags": []
   },
   "outputs": [
    {
     "data": {
      "text/html": [
       "<div>\n",
       "<style scoped>\n",
       "    .dataframe tbody tr th:only-of-type {\n",
       "        vertical-align: middle;\n",
       "    }\n",
       "\n",
       "    .dataframe tbody tr th {\n",
       "        vertical-align: top;\n",
       "    }\n",
       "\n",
       "    .dataframe thead th {\n",
       "        text-align: right;\n",
       "    }\n",
       "</style>\n",
       "<table border=\"1\" class=\"dataframe\">\n",
       "  <thead>\n",
       "    <tr style=\"text-align: right;\">\n",
       "      <th></th>\n",
       "      <th>Unnamed: 0</th>\n",
       "      <th>step</th>\n",
       "      <th>x</th>\n",
       "      <th>y</th>\n",
       "      <th>map</th>\n",
       "      <th>last_action</th>\n",
       "      <th>pcount</th>\n",
       "      <th>levels</th>\n",
       "      <th>ptypes</th>\n",
       "      <th>hp</th>\n",
       "      <th>coord_count</th>\n",
       "      <th>deaths</th>\n",
       "      <th>badge</th>\n",
       "      <th>event</th>\n",
       "      <th>healr</th>\n",
       "    </tr>\n",
       "  </thead>\n",
       "  <tbody>\n",
       "    <tr>\n",
       "      <th>4022313</th>\n",
       "      <td>7743.0</td>\n",
       "      <td>7743</td>\n",
       "      <td>38</td>\n",
       "      <td>23</td>\n",
       "      <td>61</td>\n",
       "      <td>3</td>\n",
       "      <td>2</td>\n",
       "      <td>[15, 11, 0, 0, 0, 0]</td>\n",
       "      <td>[177, 36, 255, 0, 0, 0]</td>\n",
       "      <td>1.0</td>\n",
       "      <td>1393</td>\n",
       "      <td>2</td>\n",
       "      <td>1</td>\n",
       "      <td>9</td>\n",
       "      <td>3.2315593711352104</td>\n",
       "    </tr>\n",
       "    <tr>\n",
       "      <th>4022314</th>\n",
       "      <td>7744.0</td>\n",
       "      <td>7744</td>\n",
       "      <td>38</td>\n",
       "      <td>23</td>\n",
       "      <td>61</td>\n",
       "      <td>7</td>\n",
       "      <td>2</td>\n",
       "      <td>[15, 11, 0, 0, 0, 0]</td>\n",
       "      <td>[177, 36, 255, 0, 0, 0]</td>\n",
       "      <td>1.0</td>\n",
       "      <td>1393</td>\n",
       "      <td>2</td>\n",
       "      <td>1</td>\n",
       "      <td>9</td>\n",
       "      <td>3.2315593711352104</td>\n",
       "    </tr>\n",
       "    <tr>\n",
       "      <th>4022315</th>\n",
       "      <td>7745.0</td>\n",
       "      <td>7745</td>\n",
       "      <td>38</td>\n",
       "      <td>23</td>\n",
       "      <td>61</td>\n",
       "      <td>3</td>\n",
       "      <td>2</td>\n",
       "      <td>[15, 11, 0, 0, 0, 0]</td>\n",
       "      <td>[177, 36, 255, 0, 0, 0]</td>\n",
       "      <td>1.0</td>\n",
       "      <td>1393</td>\n",
       "      <td>2</td>\n",
       "      <td>1</td>\n",
       "      <td>9</td>\n",
       "      <td>3.2315593711352104</td>\n",
       "    </tr>\n",
       "    <tr>\n",
       "      <th>4022316</th>\n",
       "      <td>7746.0</td>\n",
       "      <td>7746</td>\n",
       "      <td>38</td>\n",
       "      <td>23</td>\n",
       "      <td>61</td>\n",
       "      <td>7</td>\n",
       "      <td>2</td>\n",
       "      <td>[15, 11, 0, 0, 0, 0]</td>\n",
       "      <td>[177, 36, 255, 0, 0, 0]</td>\n",
       "      <td>1.0</td>\n",
       "      <td>1393</td>\n",
       "      <td>2</td>\n",
       "      <td>1</td>\n",
       "      <td>9</td>\n",
       "      <td>3.2315593711352104</td>\n",
       "    </tr>\n",
       "    <tr>\n",
       "      <th>4022317</th>\n",
       "      <td>7747.0</td>\n",
       "      <td>7747</td>\n",
       "      <td>38</td>\n",
       "      <td>23</td>\n",
       "      <td>61</td>\n",
       "      <td>3</td>\n",
       "      <td>2</td>\n",
       "      <td>[15, 11, 0, 0, 0, 0]</td>\n",
       "      <td>[177, 36, 255, 0, 0, 0]</td>\n",
       "      <td>1.0</td>\n",
       "      <td>1393</td>\n",
       "      <td>2</td>\n",
       "      <td>1</td>\n",
       "      <td>9</td>\n",
       "      <td>3.2315593711352104</td>\n",
       "    </tr>\n",
       "    <tr>\n",
       "      <th>...</th>\n",
       "      <td>...</td>\n",
       "      <td>...</td>\n",
       "      <td>...</td>\n",
       "      <td>...</td>\n",
       "      <td>...</td>\n",
       "      <td>...</td>\n",
       "      <td>...</td>\n",
       "      <td>...</td>\n",
       "      <td>...</td>\n",
       "      <td>...</td>\n",
       "      <td>...</td>\n",
       "      <td>...</td>\n",
       "      <td>...</td>\n",
       "      <td>...</td>\n",
       "      <td>...</td>\n",
       "    </tr>\n",
       "    <tr>\n",
       "      <th>4030516</th>\n",
       "      <td>15946.0</td>\n",
       "      <td>15946</td>\n",
       "      <td>21</td>\n",
       "      <td>17</td>\n",
       "      <td>60</td>\n",
       "      <td>4</td>\n",
       "      <td>2</td>\n",
       "      <td>[18, 12, 0, 0, 0, 0]</td>\n",
       "      <td>[177, 36, 255, 0, 0, 0]</td>\n",
       "      <td>1.0</td>\n",
       "      <td>596</td>\n",
       "      <td>3</td>\n",
       "      <td>1</td>\n",
       "      <td>13</td>\n",
       "      <td>3.6470543195248957</td>\n",
       "    </tr>\n",
       "    <tr>\n",
       "      <th>4030517</th>\n",
       "      <td>15947.0</td>\n",
       "      <td>15947</td>\n",
       "      <td>21</td>\n",
       "      <td>17</td>\n",
       "      <td>60</td>\n",
       "      <td>6</td>\n",
       "      <td>2</td>\n",
       "      <td>[18, 12, 0, 0, 0, 0]</td>\n",
       "      <td>[177, 36, 255, 0, 0, 0]</td>\n",
       "      <td>1.0</td>\n",
       "      <td>596</td>\n",
       "      <td>3</td>\n",
       "      <td>1</td>\n",
       "      <td>13</td>\n",
       "      <td>3.6470543195248957</td>\n",
       "    </tr>\n",
       "    <tr>\n",
       "      <th>4030518</th>\n",
       "      <td>15948.0</td>\n",
       "      <td>15948</td>\n",
       "      <td>20</td>\n",
       "      <td>17</td>\n",
       "      <td>60</td>\n",
       "      <td>1</td>\n",
       "      <td>2</td>\n",
       "      <td>[18, 12, 0, 0, 0, 0]</td>\n",
       "      <td>[177, 36, 255, 0, 0, 0]</td>\n",
       "      <td>1.0</td>\n",
       "      <td>596</td>\n",
       "      <td>3</td>\n",
       "      <td>1</td>\n",
       "      <td>13</td>\n",
       "      <td>3.6470543195248957</td>\n",
       "    </tr>\n",
       "    <tr>\n",
       "      <th>4030519</th>\n",
       "      <td>15949.0</td>\n",
       "      <td>15949</td>\n",
       "      <td>20</td>\n",
       "      <td>17</td>\n",
       "      <td>60</td>\n",
       "      <td>4</td>\n",
       "      <td>2</td>\n",
       "      <td>[18, 12, 0, 0, 0, 0]</td>\n",
       "      <td>[177, 36, 255, 0, 0, 0]</td>\n",
       "      <td>1.0</td>\n",
       "      <td>596</td>\n",
       "      <td>3</td>\n",
       "      <td>1</td>\n",
       "      <td>13</td>\n",
       "      <td>3.6470543195248957</td>\n",
       "    </tr>\n",
       "    <tr>\n",
       "      <th>4030520</th>\n",
       "      <td>15950.0</td>\n",
       "      <td>15950</td>\n",
       "      <td>21</td>\n",
       "      <td>17</td>\n",
       "      <td>61</td>\n",
       "      <td>2</td>\n",
       "      <td>2</td>\n",
       "      <td>[18, 12, 0, 0, 0, 0]</td>\n",
       "      <td>[177, 36, 255, 0, 0, 0]</td>\n",
       "      <td>1.0</td>\n",
       "      <td>596</td>\n",
       "      <td>3</td>\n",
       "      <td>1</td>\n",
       "      <td>13</td>\n",
       "      <td>3.6470543195248957</td>\n",
       "    </tr>\n",
       "  </tbody>\n",
       "</table>\n",
       "<p>8208 rows × 15 columns</p>\n",
       "</div>"
      ],
      "text/plain": [
       "         Unnamed: 0   step   x   y map last_action pcount  \\\n",
       "4022313      7743.0   7743  38  23  61           3      2   \n",
       "4022314      7744.0   7744  38  23  61           7      2   \n",
       "4022315      7745.0   7745  38  23  61           3      2   \n",
       "4022316      7746.0   7746  38  23  61           7      2   \n",
       "4022317      7747.0   7747  38  23  61           3      2   \n",
       "...             ...    ...  ..  ..  ..         ...    ...   \n",
       "4030516     15946.0  15946  21  17  60           4      2   \n",
       "4030517     15947.0  15947  21  17  60           6      2   \n",
       "4030518     15948.0  15948  20  17  60           1      2   \n",
       "4030519     15949.0  15949  20  17  60           4      2   \n",
       "4030520     15950.0  15950  21  17  61           2      2   \n",
       "\n",
       "                       levels                   ptypes   hp coord_count  \\\n",
       "4022313  [15, 11, 0, 0, 0, 0]  [177, 36, 255, 0, 0, 0]  1.0        1393   \n",
       "4022314  [15, 11, 0, 0, 0, 0]  [177, 36, 255, 0, 0, 0]  1.0        1393   \n",
       "4022315  [15, 11, 0, 0, 0, 0]  [177, 36, 255, 0, 0, 0]  1.0        1393   \n",
       "4022316  [15, 11, 0, 0, 0, 0]  [177, 36, 255, 0, 0, 0]  1.0        1393   \n",
       "4022317  [15, 11, 0, 0, 0, 0]  [177, 36, 255, 0, 0, 0]  1.0        1393   \n",
       "...                       ...                      ...  ...         ...   \n",
       "4030516  [18, 12, 0, 0, 0, 0]  [177, 36, 255, 0, 0, 0]  1.0         596   \n",
       "4030517  [18, 12, 0, 0, 0, 0]  [177, 36, 255, 0, 0, 0]  1.0         596   \n",
       "4030518  [18, 12, 0, 0, 0, 0]  [177, 36, 255, 0, 0, 0]  1.0         596   \n",
       "4030519  [18, 12, 0, 0, 0, 0]  [177, 36, 255, 0, 0, 0]  1.0         596   \n",
       "4030520  [18, 12, 0, 0, 0, 0]  [177, 36, 255, 0, 0, 0]  1.0         596   \n",
       "\n",
       "        deaths badge event               healr  \n",
       "4022313      2     1     9  3.2315593711352104  \n",
       "4022314      2     1     9  3.2315593711352104  \n",
       "4022315      2     1     9  3.2315593711352104  \n",
       "4022316      2     1     9  3.2315593711352104  \n",
       "4022317      2     1     9  3.2315593711352104  \n",
       "...        ...   ...   ...                 ...  \n",
       "4030516      3     1    13  3.6470543195248957  \n",
       "4030517      3     1    13  3.6470543195248957  \n",
       "4030518      3     1    13  3.6470543195248957  \n",
       "4030519      3     1    13  3.6470543195248957  \n",
       "4030520      3     1    13  3.6470543195248957  \n",
       "\n",
       "[8208 rows x 15 columns]"
      ]
     },
     "execution_count": 26,
     "metadata": {},
     "output_type": "execute_result"
    }
   ],
   "source": [
    "all_runs[490][0]"
   ]
  },
  {
   "cell_type": "code",
   "execution_count": 8,
   "id": "688b27b0-11a0-4cd0-9ae4-76d74a4ed4a7",
   "metadata": {
    "tags": []
   },
   "outputs": [
    {
     "name": "stderr",
     "output_type": "stream",
     "text": [
      "/tmp/ipykernel_241905/272524482.py:1: DtypeWarning: Columns (1,2,3,4,5,6,9,10,11,12,13,14) have mixed types. Specify dtype option on import or set low_memory=False.\n",
      "  golden_goose = pd.read_csv(\"session_3e4969a1/stats_copy/agent_stats_eb35f1c2.csv.gz\")\n"
     ]
    }
   ],
   "source": [
    "golden_goose = pd.read_csv(\"session_3e4969a1/stats_copy/agent_stats_eb35f1c2.csv.gz\")"
   ]
  },
  {
   "cell_type": "code",
   "execution_count": null,
   "id": "694024a7-b1ea-4155-8437-cc6c1086bad3",
   "metadata": {
    "tags": []
   },
   "outputs": [],
   "source": []
  },
  {
   "cell_type": "code",
   "execution_count": 9,
   "id": "79ee438a-c3b9-4ff3-901b-1685389817a9",
   "metadata": {
    "tags": []
   },
   "outputs": [
    {
     "name": "stdout",
     "output_type": "stream",
     "text": [
      "4030956"
     ]
    }
   ],
   "source": [
    "# walk down list until celadon is found, then walk back to beginning of game\n",
    "celadon_idx = len(golden_goose) - 1\n",
    "while golden_goose.iloc[celadon_idx][\"map\"] != \"3\":\n",
    "    celadon_idx -= 1\n",
    "    print(f\"\\r{celadon_idx}\", end=\"\")\n",
    "while golden_goose.iloc[celadon_idx][\"step\"] != \"0\":\n",
    "    celadon_idx -= 1\n",
    "    print(f\"\\r{celadon_idx}\", end=\"\")\n",
    "golden_range = (celadon_idx,celadon_idx+16383)\n"
   ]
  },
  {
   "cell_type": "code",
   "execution_count": 18,
   "id": "7e15098d-f532-4b27-a396-c2a76e47e3ec",
   "metadata": {
    "tags": []
   },
   "outputs": [
    {
     "data": {
      "text/html": [
       "<div>\n",
       "<style scoped>\n",
       "    .dataframe tbody tr th:only-of-type {\n",
       "        vertical-align: middle;\n",
       "    }\n",
       "\n",
       "    .dataframe tbody tr th {\n",
       "        vertical-align: top;\n",
       "    }\n",
       "\n",
       "    .dataframe thead th {\n",
       "        text-align: right;\n",
       "    }\n",
       "</style>\n",
       "<table border=\"1\" class=\"dataframe\">\n",
       "  <thead>\n",
       "    <tr style=\"text-align: right;\">\n",
       "      <th></th>\n",
       "      <th>Unnamed: 0</th>\n",
       "      <th>step</th>\n",
       "      <th>x</th>\n",
       "      <th>y</th>\n",
       "      <th>map</th>\n",
       "      <th>last_action</th>\n",
       "      <th>pcount</th>\n",
       "      <th>levels</th>\n",
       "      <th>ptypes</th>\n",
       "      <th>hp</th>\n",
       "      <th>coord_count</th>\n",
       "      <th>deaths</th>\n",
       "      <th>badge</th>\n",
       "      <th>event</th>\n",
       "      <th>healr</th>\n",
       "    </tr>\n",
       "  </thead>\n",
       "  <tbody>\n",
       "    <tr>\n",
       "      <th>4031251</th>\n",
       "      <td>295.0</td>\n",
       "      <td>295</td>\n",
       "      <td>7</td>\n",
       "      <td>28</td>\n",
       "      <td>12</td>\n",
       "      <td>4</td>\n",
       "      <td>2</td>\n",
       "      <td>[6, 0, 0, 0, 0, 0]</td>\n",
       "      <td>[177, 36, 255, 0, 0, 0]</td>\n",
       "      <td>0.45454545454545453</td>\n",
       "      <td>62</td>\n",
       "      <td>0</td>\n",
       "      <td>0</td>\n",
       "      <td>2</td>\n",
       "      <td>0.0</td>\n",
       "    </tr>\n",
       "    <tr>\n",
       "      <th>4031252</th>\n",
       "      <td>296.0</td>\n",
       "      <td>296</td>\n",
       "      <td>7</td>\n",
       "      <td>28</td>\n",
       "      <td>12</td>\n",
       "      <td>5</td>\n",
       "      <td>2</td>\n",
       "      <td>[6, 3, 0, 0, 0, 0]</td>\n",
       "      <td>[177, 36, 255, 0, 0, 0]</td>\n",
       "      <td>0.6842105263157895</td>\n",
       "      <td>62</td>\n",
       "      <td>0</td>\n",
       "      <td>0</td>\n",
       "      <td>2</td>\n",
       "      <td>0.0</td>\n",
       "    </tr>\n",
       "    <tr>\n",
       "      <th>4031253</th>\n",
       "      <td>297.0</td>\n",
       "      <td>297</td>\n",
       "      <td>7</td>\n",
       "      <td>28</td>\n",
       "      <td>12</td>\n",
       "      <td>0</td>\n",
       "      <td>2</td>\n",
       "      <td>[6, 3, 0, 0, 0, 0]</td>\n",
       "      <td>[177, 36, 255, 0, 0, 0]</td>\n",
       "      <td>0.6842105263157895</td>\n",
       "      <td>62</td>\n",
       "      <td>0</td>\n",
       "      <td>0</td>\n",
       "      <td>2</td>\n",
       "      <td>0.22966507177033496</td>\n",
       "    </tr>\n",
       "    <tr>\n",
       "      <th>4031254</th>\n",
       "      <td>298.0</td>\n",
       "      <td>298</td>\n",
       "      <td>7</td>\n",
       "      <td>28</td>\n",
       "      <td>12</td>\n",
       "      <td>4</td>\n",
       "      <td>2</td>\n",
       "      <td>[6, 3, 0, 0, 0, 0]</td>\n",
       "      <td>[177, 36, 255, 0, 0, 0]</td>\n",
       "      <td>0.6842105263157895</td>\n",
       "      <td>62</td>\n",
       "      <td>0</td>\n",
       "      <td>0</td>\n",
       "      <td>2</td>\n",
       "      <td>0.22966507177033496</td>\n",
       "    </tr>\n",
       "    <tr>\n",
       "      <th>4031255</th>\n",
       "      <td>299.0</td>\n",
       "      <td>299</td>\n",
       "      <td>8</td>\n",
       "      <td>28</td>\n",
       "      <td>12</td>\n",
       "      <td>2</td>\n",
       "      <td>2</td>\n",
       "      <td>[6, 3, 0, 0, 0, 0]</td>\n",
       "      <td>[177, 36, 255, 0, 0, 0]</td>\n",
       "      <td>0.6842105263157895</td>\n",
       "      <td>62</td>\n",
       "      <td>0</td>\n",
       "      <td>0</td>\n",
       "      <td>2</td>\n",
       "      <td>0.22966507177033496</td>\n",
       "    </tr>\n",
       "    <tr>\n",
       "      <th>4031256</th>\n",
       "      <td>300.0</td>\n",
       "      <td>300</td>\n",
       "      <td>8</td>\n",
       "      <td>27</td>\n",
       "      <td>12</td>\n",
       "      <td>3</td>\n",
       "      <td>2</td>\n",
       "      <td>[6, 3, 0, 0, 0, 0]</td>\n",
       "      <td>[177, 36, 255, 0, 0, 0]</td>\n",
       "      <td>0.6842105263157895</td>\n",
       "      <td>62</td>\n",
       "      <td>0</td>\n",
       "      <td>0</td>\n",
       "      <td>2</td>\n",
       "      <td>0.22966507177033496</td>\n",
       "    </tr>\n",
       "    <tr>\n",
       "      <th>4031257</th>\n",
       "      <td>301.0</td>\n",
       "      <td>301</td>\n",
       "      <td>8</td>\n",
       "      <td>26</td>\n",
       "      <td>12</td>\n",
       "      <td>3</td>\n",
       "      <td>2</td>\n",
       "      <td>[6, 3, 0, 0, 0, 0]</td>\n",
       "      <td>[177, 36, 255, 0, 0, 0]</td>\n",
       "      <td>0.6842105263157895</td>\n",
       "      <td>62</td>\n",
       "      <td>0</td>\n",
       "      <td>0</td>\n",
       "      <td>2</td>\n",
       "      <td>0.22966507177033496</td>\n",
       "    </tr>\n",
       "    <tr>\n",
       "      <th>4031258</th>\n",
       "      <td>302.0</td>\n",
       "      <td>302</td>\n",
       "      <td>9</td>\n",
       "      <td>26</td>\n",
       "      <td>12</td>\n",
       "      <td>2</td>\n",
       "      <td>2</td>\n",
       "      <td>[6, 3, 0, 0, 0, 0]</td>\n",
       "      <td>[177, 36, 255, 0, 0, 0]</td>\n",
       "      <td>0.6842105263157895</td>\n",
       "      <td>62</td>\n",
       "      <td>0</td>\n",
       "      <td>0</td>\n",
       "      <td>2</td>\n",
       "      <td>0.22966507177033496</td>\n",
       "    </tr>\n",
       "    <tr>\n",
       "      <th>4031259</th>\n",
       "      <td>303.0</td>\n",
       "      <td>303</td>\n",
       "      <td>10</td>\n",
       "      <td>26</td>\n",
       "      <td>12</td>\n",
       "      <td>2</td>\n",
       "      <td>2</td>\n",
       "      <td>[6, 3, 0, 0, 0, 0]</td>\n",
       "      <td>[177, 36, 255, 0, 0, 0]</td>\n",
       "      <td>0.6842105263157895</td>\n",
       "      <td>63</td>\n",
       "      <td>0</td>\n",
       "      <td>0</td>\n",
       "      <td>2</td>\n",
       "      <td>0.22966507177033496</td>\n",
       "    </tr>\n",
       "    <tr>\n",
       "      <th>4031260</th>\n",
       "      <td>304.0</td>\n",
       "      <td>304</td>\n",
       "      <td>11</td>\n",
       "      <td>26</td>\n",
       "      <td>12</td>\n",
       "      <td>2</td>\n",
       "      <td>2</td>\n",
       "      <td>[6, 3, 0, 0, 0, 0]</td>\n",
       "      <td>[177, 36, 255, 0, 0, 0]</td>\n",
       "      <td>0.6842105263157895</td>\n",
       "      <td>64</td>\n",
       "      <td>0</td>\n",
       "      <td>0</td>\n",
       "      <td>2</td>\n",
       "      <td>0.22966507177033496</td>\n",
       "    </tr>\n",
       "    <tr>\n",
       "      <th>4031261</th>\n",
       "      <td>305.0</td>\n",
       "      <td>305</td>\n",
       "      <td>12</td>\n",
       "      <td>26</td>\n",
       "      <td>12</td>\n",
       "      <td>2</td>\n",
       "      <td>2</td>\n",
       "      <td>[6, 3, 0, 0, 0, 0]</td>\n",
       "      <td>[177, 36, 255, 0, 0, 0]</td>\n",
       "      <td>0.6842105263157895</td>\n",
       "      <td>65</td>\n",
       "      <td>0</td>\n",
       "      <td>0</td>\n",
       "      <td>2</td>\n",
       "      <td>0.22966507177033496</td>\n",
       "    </tr>\n",
       "    <tr>\n",
       "      <th>4031262</th>\n",
       "      <td>306.0</td>\n",
       "      <td>306</td>\n",
       "      <td>13</td>\n",
       "      <td>26</td>\n",
       "      <td>12</td>\n",
       "      <td>2</td>\n",
       "      <td>2</td>\n",
       "      <td>[6, 3, 0, 0, 0, 0]</td>\n",
       "      <td>[177, 36, 255, 0, 0, 0]</td>\n",
       "      <td>0.6842105263157895</td>\n",
       "      <td>66</td>\n",
       "      <td>0</td>\n",
       "      <td>0</td>\n",
       "      <td>2</td>\n",
       "      <td>0.22966507177033496</td>\n",
       "    </tr>\n",
       "    <tr>\n",
       "      <th>4031263</th>\n",
       "      <td>307.0</td>\n",
       "      <td>307</td>\n",
       "      <td>13</td>\n",
       "      <td>25</td>\n",
       "      <td>12</td>\n",
       "      <td>3</td>\n",
       "      <td>2</td>\n",
       "      <td>[6, 3, 0, 0, 0, 0]</td>\n",
       "      <td>[177, 36, 255, 0, 0, 0]</td>\n",
       "      <td>0.6842105263157895</td>\n",
       "      <td>67</td>\n",
       "      <td>0</td>\n",
       "      <td>0</td>\n",
       "      <td>2</td>\n",
       "      <td>0.22966507177033496</td>\n",
       "    </tr>\n",
       "    <tr>\n",
       "      <th>4031264</th>\n",
       "      <td>308.0</td>\n",
       "      <td>308</td>\n",
       "      <td>14</td>\n",
       "      <td>25</td>\n",
       "      <td>12</td>\n",
       "      <td>2</td>\n",
       "      <td>2</td>\n",
       "      <td>[6, 3, 0, 0, 0, 0]</td>\n",
       "      <td>[177, 36, 255, 0, 0, 0]</td>\n",
       "      <td>0.6842105263157895</td>\n",
       "      <td>68</td>\n",
       "      <td>0</td>\n",
       "      <td>0</td>\n",
       "      <td>2</td>\n",
       "      <td>0.22966507177033496</td>\n",
       "    </tr>\n",
       "    <tr>\n",
       "      <th>4031265</th>\n",
       "      <td>309.0</td>\n",
       "      <td>309</td>\n",
       "      <td>14</td>\n",
       "      <td>24</td>\n",
       "      <td>12</td>\n",
       "      <td>3</td>\n",
       "      <td>2</td>\n",
       "      <td>[6, 3, 0, 0, 0, 0]</td>\n",
       "      <td>[177, 36, 255, 0, 0, 0]</td>\n",
       "      <td>0.6842105263157895</td>\n",
       "      <td>69</td>\n",
       "      <td>0</td>\n",
       "      <td>0</td>\n",
       "      <td>2</td>\n",
       "      <td>0.22966507177033496</td>\n",
       "    </tr>\n",
       "    <tr>\n",
       "      <th>4031266</th>\n",
       "      <td>310.0</td>\n",
       "      <td>310</td>\n",
       "      <td>15</td>\n",
       "      <td>24</td>\n",
       "      <td>12</td>\n",
       "      <td>2</td>\n",
       "      <td>2</td>\n",
       "      <td>[6, 3, 0, 0, 0, 0]</td>\n",
       "      <td>[177, 36, 255, 0, 0, 0]</td>\n",
       "      <td>0.6842105263157895</td>\n",
       "      <td>70</td>\n",
       "      <td>0</td>\n",
       "      <td>0</td>\n",
       "      <td>2</td>\n",
       "      <td>0.22966507177033496</td>\n",
       "    </tr>\n",
       "    <tr>\n",
       "      <th>4031267</th>\n",
       "      <td>311.0</td>\n",
       "      <td>311</td>\n",
       "      <td>15</td>\n",
       "      <td>23</td>\n",
       "      <td>12</td>\n",
       "      <td>3</td>\n",
       "      <td>2</td>\n",
       "      <td>[6, 3, 0, 0, 0, 0]</td>\n",
       "      <td>[177, 36, 255, 0, 0, 0]</td>\n",
       "      <td>0.6842105263157895</td>\n",
       "      <td>71</td>\n",
       "      <td>0</td>\n",
       "      <td>0</td>\n",
       "      <td>2</td>\n",
       "      <td>0.22966507177033496</td>\n",
       "    </tr>\n",
       "    <tr>\n",
       "      <th>4031268</th>\n",
       "      <td>312.0</td>\n",
       "      <td>312</td>\n",
       "      <td>15</td>\n",
       "      <td>23</td>\n",
       "      <td>12</td>\n",
       "      <td>6</td>\n",
       "      <td>2</td>\n",
       "      <td>[6, 3, 0, 0, 0, 0]</td>\n",
       "      <td>[177, 36, 255, 0, 0, 0]</td>\n",
       "      <td>0.6842105263157895</td>\n",
       "      <td>72</td>\n",
       "      <td>0</td>\n",
       "      <td>0</td>\n",
       "      <td>2</td>\n",
       "      <td>0.22966507177033496</td>\n",
       "    </tr>\n",
       "    <tr>\n",
       "      <th>4031269</th>\n",
       "      <td>313.0</td>\n",
       "      <td>313</td>\n",
       "      <td>15</td>\n",
       "      <td>22</td>\n",
       "      <td>12</td>\n",
       "      <td>3</td>\n",
       "      <td>2</td>\n",
       "      <td>[6, 3, 0, 0, 0, 0]</td>\n",
       "      <td>[177, 36, 255, 0, 0, 0]</td>\n",
       "      <td>0.6842105263157895</td>\n",
       "      <td>72</td>\n",
       "      <td>0</td>\n",
       "      <td>0</td>\n",
       "      <td>2</td>\n",
       "      <td>0.22966507177033496</td>\n",
       "    </tr>\n",
       "    <tr>\n",
       "      <th>4031270</th>\n",
       "      <td>314.0</td>\n",
       "      <td>314</td>\n",
       "      <td>15</td>\n",
       "      <td>21</td>\n",
       "      <td>12</td>\n",
       "      <td>3</td>\n",
       "      <td>2</td>\n",
       "      <td>[6, 3, 0, 0, 0, 0]</td>\n",
       "      <td>[177, 36, 255, 0, 0, 0]</td>\n",
       "      <td>0.6842105263157895</td>\n",
       "      <td>73</td>\n",
       "      <td>0</td>\n",
       "      <td>0</td>\n",
       "      <td>2</td>\n",
       "      <td>0.22966507177033496</td>\n",
       "    </tr>\n",
       "  </tbody>\n",
       "</table>\n",
       "</div>"
      ],
      "text/plain": [
       "         Unnamed: 0 step   x   y map last_action pcount              levels  \\\n",
       "4031251       295.0  295   7  28  12           4      2  [6, 0, 0, 0, 0, 0]   \n",
       "4031252       296.0  296   7  28  12           5      2  [6, 3, 0, 0, 0, 0]   \n",
       "4031253       297.0  297   7  28  12           0      2  [6, 3, 0, 0, 0, 0]   \n",
       "4031254       298.0  298   7  28  12           4      2  [6, 3, 0, 0, 0, 0]   \n",
       "4031255       299.0  299   8  28  12           2      2  [6, 3, 0, 0, 0, 0]   \n",
       "4031256       300.0  300   8  27  12           3      2  [6, 3, 0, 0, 0, 0]   \n",
       "4031257       301.0  301   8  26  12           3      2  [6, 3, 0, 0, 0, 0]   \n",
       "4031258       302.0  302   9  26  12           2      2  [6, 3, 0, 0, 0, 0]   \n",
       "4031259       303.0  303  10  26  12           2      2  [6, 3, 0, 0, 0, 0]   \n",
       "4031260       304.0  304  11  26  12           2      2  [6, 3, 0, 0, 0, 0]   \n",
       "4031261       305.0  305  12  26  12           2      2  [6, 3, 0, 0, 0, 0]   \n",
       "4031262       306.0  306  13  26  12           2      2  [6, 3, 0, 0, 0, 0]   \n",
       "4031263       307.0  307  13  25  12           3      2  [6, 3, 0, 0, 0, 0]   \n",
       "4031264       308.0  308  14  25  12           2      2  [6, 3, 0, 0, 0, 0]   \n",
       "4031265       309.0  309  14  24  12           3      2  [6, 3, 0, 0, 0, 0]   \n",
       "4031266       310.0  310  15  24  12           2      2  [6, 3, 0, 0, 0, 0]   \n",
       "4031267       311.0  311  15  23  12           3      2  [6, 3, 0, 0, 0, 0]   \n",
       "4031268       312.0  312  15  23  12           6      2  [6, 3, 0, 0, 0, 0]   \n",
       "4031269       313.0  313  15  22  12           3      2  [6, 3, 0, 0, 0, 0]   \n",
       "4031270       314.0  314  15  21  12           3      2  [6, 3, 0, 0, 0, 0]   \n",
       "\n",
       "                          ptypes                   hp coord_count deaths  \\\n",
       "4031251  [177, 36, 255, 0, 0, 0]  0.45454545454545453          62      0   \n",
       "4031252  [177, 36, 255, 0, 0, 0]   0.6842105263157895          62      0   \n",
       "4031253  [177, 36, 255, 0, 0, 0]   0.6842105263157895          62      0   \n",
       "4031254  [177, 36, 255, 0, 0, 0]   0.6842105263157895          62      0   \n",
       "4031255  [177, 36, 255, 0, 0, 0]   0.6842105263157895          62      0   \n",
       "4031256  [177, 36, 255, 0, 0, 0]   0.6842105263157895          62      0   \n",
       "4031257  [177, 36, 255, 0, 0, 0]   0.6842105263157895          62      0   \n",
       "4031258  [177, 36, 255, 0, 0, 0]   0.6842105263157895          62      0   \n",
       "4031259  [177, 36, 255, 0, 0, 0]   0.6842105263157895          63      0   \n",
       "4031260  [177, 36, 255, 0, 0, 0]   0.6842105263157895          64      0   \n",
       "4031261  [177, 36, 255, 0, 0, 0]   0.6842105263157895          65      0   \n",
       "4031262  [177, 36, 255, 0, 0, 0]   0.6842105263157895          66      0   \n",
       "4031263  [177, 36, 255, 0, 0, 0]   0.6842105263157895          67      0   \n",
       "4031264  [177, 36, 255, 0, 0, 0]   0.6842105263157895          68      0   \n",
       "4031265  [177, 36, 255, 0, 0, 0]   0.6842105263157895          69      0   \n",
       "4031266  [177, 36, 255, 0, 0, 0]   0.6842105263157895          70      0   \n",
       "4031267  [177, 36, 255, 0, 0, 0]   0.6842105263157895          71      0   \n",
       "4031268  [177, 36, 255, 0, 0, 0]   0.6842105263157895          72      0   \n",
       "4031269  [177, 36, 255, 0, 0, 0]   0.6842105263157895          72      0   \n",
       "4031270  [177, 36, 255, 0, 0, 0]   0.6842105263157895          73      0   \n",
       "\n",
       "        badge event                healr  \n",
       "4031251     0     2                  0.0  \n",
       "4031252     0     2                  0.0  \n",
       "4031253     0     2  0.22966507177033496  \n",
       "4031254     0     2  0.22966507177033496  \n",
       "4031255     0     2  0.22966507177033496  \n",
       "4031256     0     2  0.22966507177033496  \n",
       "4031257     0     2  0.22966507177033496  \n",
       "4031258     0     2  0.22966507177033496  \n",
       "4031259     0     2  0.22966507177033496  \n",
       "4031260     0     2  0.22966507177033496  \n",
       "4031261     0     2  0.22966507177033496  \n",
       "4031262     0     2  0.22966507177033496  \n",
       "4031263     0     2  0.22966507177033496  \n",
       "4031264     0     2  0.22966507177033496  \n",
       "4031265     0     2  0.22966507177033496  \n",
       "4031266     0     2  0.22966507177033496  \n",
       "4031267     0     2  0.22966507177033496  \n",
       "4031268     0     2  0.22966507177033496  \n",
       "4031269     0     2  0.22966507177033496  \n",
       "4031270     0     2  0.22966507177033496  "
      ]
     },
     "execution_count": 18,
     "metadata": {},
     "output_type": "execute_result"
    }
   ],
   "source": [
    "golden_goose[golden_range[0]-5+300:golden_range[0]+15+300]#golden_range[1]][\"map\"]"
   ]
  },
  {
   "cell_type": "code",
   "execution_count": 12,
   "id": "17750a9f-e15d-41ef-aff9-833aea03f24b",
   "metadata": {
    "tags": []
   },
   "outputs": [],
   "source": [
    "#golden_goose[16384*10:16384*10+30]#golden_range[1]][\"map\"]"
   ]
  },
  {
   "cell_type": "code",
   "execution_count": 14,
   "id": "d1506b5a-894c-4158-8983-b0ba7197b594",
   "metadata": {
    "tags": []
   },
   "outputs": [],
   "source": [
    "golden_actions = [int(a) for a in list(golden_goose[golden_range[0]:golden_range[1]][\"last_action\"])]"
   ]
  },
  {
   "cell_type": "code",
   "execution_count": 17,
   "id": "2d1bf111-a8d3-4284-b475-7176fcf15ab6",
   "metadata": {
    "tags": []
   },
   "outputs": [
    {
     "data": {
      "text/plain": [
       "[0, 0, 0, 0, 0, 7, 0, 0, 0, 0, 2, 1, 1, 1, 1]"
      ]
     },
     "execution_count": 17,
     "metadata": {},
     "output_type": "execute_result"
    }
   ],
   "source": [
    "golden_actions[:15]"
   ]
  },
  {
   "cell_type": "code",
   "execution_count": 15,
   "id": "84e007ad-48da-48a7-8375-624e52fe52fc",
   "metadata": {
    "tags": []
   },
   "outputs": [
    {
     "name": "stderr",
     "output_type": "stream",
     "text": [
      "134067   pyboy.plugins.window_headless  WARNING  This window type does not support frame-limiting. `pyboy.set_emulation_speed(...)` will have no effect, as it's always running at full speed.\n",
      "100%|████████████████████████████████████████████████████████████████████████████| 500/500 [00:18<00:00, 26.50it/s]\n"
     ]
    }
   ],
   "source": [
    "run_action_list_on_emulator_and_save_video(golden_actions[:500])"
   ]
  },
  {
   "cell_type": "code",
   "execution_count": null,
   "id": "5da30eda-32ba-4ebe-ab40-dbc63267be49",
   "metadata": {
    "tags": []
   },
   "outputs": [],
   "source": [
    "#run_recorded_actions_on_emulator_and_save_video(\"5586ece3\", \"28084aad\", 1)"
   ]
  },
  {
   "cell_type": "code",
   "execution_count": 2,
   "id": "3fae810d-2172-42f8-b0b0-2fb38b07df5c",
   "metadata": {},
   "outputs": [
    {
     "name": "stderr",
     "output_type": "stream",
     "text": [
      "7180     pyboy.plugins.window_headless  WARNING  This window type does not support frame-limiting. `pyboy.set_emulation_speed(...)` will have no effect, as it's always running at full speed.\n"
     ]
    },
    {
     "name": "stdout",
     "output_type": "stream",
     "text": [
      "267\n"
     ]
    },
    {
     "name": "stderr",
     "output_type": "stream",
     "text": [
      " 15%|███████████                                                              | 2471/16385 [01:32<08:43, 26.57it/s]\n"
     ]
    },
    {
     "ename": "KeyboardInterrupt",
     "evalue": "",
     "output_type": "error",
     "traceback": [
      "\u001b[0;31m---------------------------------------------------------------------------\u001b[0m",
      "\u001b[0;31mKeyboardInterrupt\u001b[0m                         Traceback (most recent call last)",
      "Cell \u001b[0;32mIn[2], line 1\u001b[0m\n\u001b[0;32m----> 1\u001b[0m \u001b[43mrun_recorded_actions_on_emulator_and_save_video\u001b[49m\u001b[43m(\u001b[49m\u001b[38;5;124;43m\"\u001b[39;49m\u001b[38;5;124;43m3e4969a1\u001b[39;49m\u001b[38;5;124;43m\"\u001b[39;49m\u001b[43m,\u001b[49m\u001b[43m \u001b[49m\u001b[38;5;124;43m\"\u001b[39;49m\u001b[38;5;124;43meb35f1c2\u001b[39;49m\u001b[38;5;124;43m\"\u001b[39;49m\u001b[43m,\u001b[49m\u001b[43m \u001b[49m\u001b[38;5;241;43m490\u001b[39;49m\u001b[43m \u001b[49m\u001b[38;5;241;43m/\u001b[39;49m\u001b[38;5;241;43m/\u001b[39;49m\u001b[43m \u001b[49m\u001b[38;5;241;43m2\u001b[39;49m\u001b[43m)\u001b[49m\n",
      "File \u001b[0;32m~/Documents/dreamerv3/run_recorded_actions.py:27\u001b[0m, in \u001b[0;36mrun_recorded_actions_on_emulator_and_save_video\u001b[0;34m(sess_id, instance_id, run_index)\u001b[0m\n\u001b[1;32m     25\u001b[0m obs \u001b[38;5;241m=\u001b[39m env\u001b[38;5;241m.\u001b[39mreset()\n\u001b[1;32m     26\u001b[0m \u001b[38;5;28;01mfor\u001b[39;00m action \u001b[38;5;129;01min\u001b[39;00m tqdm(action_list):\n\u001b[0;32m---> 27\u001b[0m     obs, rewards, term, trunc, info \u001b[38;5;241m=\u001b[39m \u001b[43menv\u001b[49m\u001b[38;5;241;43m.\u001b[39;49m\u001b[43mstep\u001b[49m\u001b[43m(\u001b[49m\u001b[43maction\u001b[49m\u001b[43m)\u001b[49m\n\u001b[1;32m     28\u001b[0m     env\u001b[38;5;241m.\u001b[39mrender()\n",
      "File \u001b[0;32m~/Documents/dreamerv3/red_gym_env.py:179\u001b[0m, in \u001b[0;36mRedGymEnv.step\u001b[0;34m(self, action)\u001b[0m\n\u001b[1;32m    177\u001b[0m \u001b[38;5;28;01mdef\u001b[39;00m \u001b[38;5;21mstep\u001b[39m(\u001b[38;5;28mself\u001b[39m, action):\n\u001b[0;32m--> 179\u001b[0m     \u001b[38;5;28;43mself\u001b[39;49m\u001b[38;5;241;43m.\u001b[39;49m\u001b[43mrun_action_on_emulator\u001b[49m\u001b[43m(\u001b[49m\u001b[43maction\u001b[49m\u001b[43m)\u001b[49m\n\u001b[1;32m    180\u001b[0m     \u001b[38;5;28mself\u001b[39m\u001b[38;5;241m.\u001b[39mappend_agent_stats(action)\n\u001b[1;32m    182\u001b[0m     \u001b[38;5;28mself\u001b[39m\u001b[38;5;241m.\u001b[39mrecent_frames \u001b[38;5;241m=\u001b[39m np\u001b[38;5;241m.\u001b[39mroll(\u001b[38;5;28mself\u001b[39m\u001b[38;5;241m.\u001b[39mrecent_frames, \u001b[38;5;241m1\u001b[39m, axis\u001b[38;5;241m=\u001b[39m\u001b[38;5;241m0\u001b[39m)\n",
      "File \u001b[0;32m~/Documents/dreamerv3/red_gym_env.py:230\u001b[0m, in \u001b[0;36mRedGymEnv.run_action_on_emulator\u001b[0;34m(self, action)\u001b[0m\n\u001b[1;32m    228\u001b[0m     \u001b[38;5;28;01mif\u001b[39;00m \u001b[38;5;28mself\u001b[39m\u001b[38;5;241m.\u001b[39msave_video \u001b[38;5;129;01mand\u001b[39;00m \u001b[38;5;129;01mnot\u001b[39;00m \u001b[38;5;28mself\u001b[39m\u001b[38;5;241m.\u001b[39mfast_video:\n\u001b[1;32m    229\u001b[0m         \u001b[38;5;28mself\u001b[39m\u001b[38;5;241m.\u001b[39madd_video_frame()\n\u001b[0;32m--> 230\u001b[0m     \u001b[38;5;28;43mself\u001b[39;49m\u001b[38;5;241;43m.\u001b[39;49m\u001b[43mpyboy\u001b[49m\u001b[38;5;241;43m.\u001b[39;49m\u001b[43mtick\u001b[49m\u001b[43m(\u001b[49m\u001b[43m)\u001b[49m\n\u001b[1;32m    231\u001b[0m \u001b[38;5;28;01mif\u001b[39;00m \u001b[38;5;28mself\u001b[39m\u001b[38;5;241m.\u001b[39msave_video \u001b[38;5;129;01mand\u001b[39;00m \u001b[38;5;28mself\u001b[39m\u001b[38;5;241m.\u001b[39mfast_video:\n\u001b[1;32m    232\u001b[0m     \u001b[38;5;28mself\u001b[39m\u001b[38;5;241m.\u001b[39madd_video_frame()\n",
      "\u001b[0;31mKeyboardInterrupt\u001b[0m: "
     ]
    }
   ],
   "source": [
    "run_recorded_actions_on_emulator_and_save_video(\"3e4969a1\", \"eb35f1c2\", 490 // 2)"
   ]
  },
  {
   "cell_type": "code",
   "execution_count": 6,
   "id": "28b1173a-c4f5-4eb0-801a-dcd1ea9f0fe7",
   "metadata": {
    "tags": []
   },
   "outputs": [
    {
     "data": {
      "text/plain": [
       "245"
      ]
     },
     "execution_count": 6,
     "metadata": {},
     "output_type": "execute_result"
    }
   ],
   "source": [
    "490 // 2"
   ]
  },
  {
   "cell_type": "code",
   "execution_count": null,
   "id": "870a1e58-19f6-431e-9fdf-cc845607da26",
   "metadata": {},
   "outputs": [],
   "source": []
  }
 ],
 "metadata": {
  "kernelspec": {
   "display_name": "Python [conda env:py10] *",
   "language": "python",
   "name": "conda-env-py10-py"
  },
  "language_info": {
   "codemirror_mode": {
    "name": "ipython",
    "version": 3
   },
   "file_extension": ".py",
   "mimetype": "text/x-python",
   "name": "python",
   "nbconvert_exporter": "python",
   "pygments_lexer": "ipython3",
   "version": "3.10.9"
  }
 },
 "nbformat": 4,
 "nbformat_minor": 5
}
